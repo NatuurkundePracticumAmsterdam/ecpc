{
 "cells": [
  {
   "cell_type": "markdown",
   "metadata": {},
   "source": [
    "# Tutorial HDF5\n",
    "### Door: Olivier Swaak"
   ]
  },
  {
   "cell_type": "markdown",
   "metadata": {},
   "source": [
    "Een HDF5 bestand staat bestaat uit verschillende lagen:\n",
    "1. De hoogste laag is het HDF5 bestand zelf. Deze heeft '.h5' als extensie.\n",
    "2. Het bestand bestaat vervolgens uit verschillende groepen.\n",
    "3. In deze groepen kunnen we vervolgens data opslaan (of nog meer groepen aanmaken). In ons geval wordt de data opgeslagen als tabellen.\n",
    "\n",
    "Je kan het HDF5 bestand zien als het zipbestand waarin we onze data op willen slaan, de groepen als de mapjes in het zipbestand en de tabellen de csv bestandjes die in de mappen staan. Hiermee kan er een complexe hiërarchie aan mapjes samengevat en opgeslagen worden in 1 bestand."
   ]
  },
  {
   "cell_type": "markdown",
   "metadata": {},
   "source": [
    "Ik zal in deze tutorial ingaan op het opslaan van tabellen in een HDF5 bestand.\n",
    "Voor meer informatie over de veelzijdigheid van HDF5, bekijk de video: https://www.youtube.com/watch?v=S74Kc8QYDac.\n",
    "\n",
    "Deze tutorial is verder een korte samenvatting.\n",
    "Voor een stap voor stap video tutorial van de module 'PyTables' raad ik de volgende video aan: https://www.youtube.com/watch?v=TSQNhL6AVGA."
   ]
  },
  {
   "cell_type": "markdown",
   "metadata": {},
   "source": [
    "*Voordat we beginnen*: Om een Jupyter notebook te kunnen gebruiken heeft je environment een 'kernel' nodig. Deze kernel zorgt ervoor dat je Jupyter notebook weet welke environment hij moet gebruiken en welke packages daarbij horen.\n",
    "(Kijk of in 'Visual Studio Code' de 'Jupyter' extension is geïnstalleerd.)\n",
    "\n",
    "Maak een nieuwe conda environment aan\n",
    "<code>conda create --name HDF5tutorial ipykernel pytables matplotlib </code>\n",
    "Open deze tutorial in Visual Studio Code\n",
    "Vervolgens kan je dan rechtsboven aan de notebook je kernel selecteren:\n",
    "\n",
    "1. Druk op 'Select Kernel'.\n",
    "2. Kies 'Python environments'.\n",
    "3. Selecteer HDF5tutorial"
   ]
  },
  {
   "cell_type": "markdown",
   "metadata": {},
   "source": [
    "## **Stap 1**: maak een bestand aan"
   ]
  },
  {
   "cell_type": "code",
   "execution_count": 1,
   "metadata": {},
   "outputs": [],
   "source": [
    "import tables as pt"
   ]
  },
  {
   "cell_type": "markdown",
   "metadata": {},
   "source": [
    "Eerst importeren we de PyTables package."
   ]
  },
  {
   "cell_type": "code",
   "execution_count": 2,
   "metadata": {},
   "outputs": [
    {
     "name": "stdout",
     "output_type": "stream",
     "text": [
      "<bound method File.list_nodes of File(filename=tutorial.h5, title='', mode='w', root_uep='/', filters=Filters(complevel=0, shuffle=False, bitshuffle=False, fletcher32=False, least_significant_digit=None))\n",
      "/ (RootGroup) ''\n",
      ">\n"
     ]
    }
   ],
   "source": [
    "h5file = pt.open_file('tutorial.h5', 'w')\n",
    "print(h5file.list_nodes)"
   ]
  },
  {
   "cell_type": "markdown",
   "metadata": {},
   "source": [
    "We openen hier een .h5 (HDF5) bestand.\n",
    "Als deze nog niet bestaat, wordt deze automatisch eerst aangemaakt.\n",
    "\n",
    "We openen het hier met <code>'w'</code> om ervoor te zorgen dat we voor deze tutorial steeds een schone hdf5 file aanmaken. Het kan misschien handig zijn om steeds aan hetzelfde bestand metingen toe te voegen. Dan moet je het bestand op een andere manier dan <code>'w'</code> openen."
   ]
  },
  {
   "cell_type": "markdown",
   "metadata": {},
   "source": [
    "# **Stap 2**: maak een groep aan (optioneel)"
   ]
  },
  {
   "cell_type": "code",
   "execution_count": 3,
   "metadata": {},
   "outputs": [
    {
     "name": "stdout",
     "output_type": "stream",
     "text": [
      "<bound method File.list_nodes of File(filename=tutorial.h5, title='', mode='w', root_uep='/', filters=Filters(complevel=0, shuffle=False, bitshuffle=False, fletcher32=False, least_significant_digit=None))\n",
      "/ (RootGroup) ''\n",
      "/Group (Group) 'Description'\n",
      ">\n"
     ]
    }
   ],
   "source": [
    "group = h5file.create_group(h5file.root, 'Group', 'Description')\n",
    "print(h5file.list_nodes)"
   ]
  },
  {
   "cell_type": "markdown",
   "metadata": {},
   "source": [
    "Hierbij kunnen we zien we aan de 'root' van het bestand een extra groep hebben toegevoegd. We kunnen de root van het bestand eventueel ook aanduiden met '/' en aan groepen kunnen we ook weer extra groepen toevoegen:"
   ]
  },
  {
   "cell_type": "code",
   "execution_count": 4,
   "metadata": {},
   "outputs": [
    {
     "name": "stdout",
     "output_type": "stream",
     "text": [
      "<bound method File.list_nodes of File(filename=tutorial.h5, title='', mode='w', root_uep='/', filters=Filters(complevel=0, shuffle=False, bitshuffle=False, fletcher32=False, least_significant_digit=None))\n",
      "/ (RootGroup) ''\n",
      "/Group (Group) 'Description'\n",
      "/Group 2 (Group) 'Description'\n",
      "/Group 2/Subgroup (Group) 'Description'\n",
      ">\n"
     ]
    },
    {
     "name": "stderr",
     "output_type": "stream",
     "text": [
      "c:\\Users\\avr276\\anaconda3\\envs\\HDF5tutorial\\Lib\\site-packages\\tables\\path.py:137: NaturalNameWarning: object name is not a valid Python identifier: 'Group 2'; it does not match the pattern ``^[a-zA-Z_][a-zA-Z0-9_]*$``; you will not be able to use natural naming to access this object; using ``getattr()`` will still work, though\n",
      "  check_attribute_name(name)\n"
     ]
    }
   ],
   "source": [
    "group2 = h5file.create_group('/', 'Group 2', 'Description')\n",
    "subgroup = h5file.create_group(group2, 'Subgroup', 'Description')\n",
    "\n",
    "print(h5file.list_nodes)"
   ]
  },
  {
   "cell_type": "markdown",
   "metadata": {},
   "source": [
    "Om het te versimpelen zal ik de rest van de tutorial alleen maar 'group' gebruiken om alles in op te slaan en zal nu de andere groepen verwijderen. Maar het is belangrijk om te zien dat je dus een hele mappenstructuur kan maken."
   ]
  },
  {
   "cell_type": "code",
   "execution_count": 5,
   "metadata": {},
   "outputs": [
    {
     "name": "stdout",
     "output_type": "stream",
     "text": [
      "<bound method File.list_nodes of File(filename=tutorial.h5, title='', mode='w', root_uep='/', filters=Filters(complevel=0, shuffle=False, bitshuffle=False, fletcher32=False, least_significant_digit=None))\n",
      "/ (RootGroup) ''\n",
      "/Group (Group) 'Description'\n",
      ">\n"
     ]
    }
   ],
   "source": [
    "group2._f_remove(recursive = True, force = True)\n",
    "\n",
    "print(h5file.list_nodes)"
   ]
  },
  {
   "cell_type": "markdown",
   "metadata": {},
   "source": [
    "## **Stap 3**: maak een tabel aan"
   ]
  },
  {
   "cell_type": "markdown",
   "metadata": {},
   "source": [
    "Om een tabel aan te maken hebben we eerst een 'description' nodig. Deze vertelt ons hoe het tabel in elkaar zit."
   ]
  },
  {
   "cell_type": "code",
   "execution_count": 6,
   "metadata": {},
   "outputs": [],
   "source": [
    "class Description(pt.IsDescription):\n",
    "    value_a = pt.Float64Col()\n",
    "    value_b = pt.Float64Col()\n",
    "    timestamp = pt.Time64Col()"
   ]
  },
  {
   "cell_type": "markdown",
   "metadata": {},
   "source": [
    "Hier maken we een 'class' aan (wat een class is staat in het volgende hoofdstuk van de handleiding). Deze 'class' heeft verschillende 'attributen' die corresponderen met de kolommen van het tabel. We geven de kolommen een naam: 'value_a', 'value_b' en 'timestamp' en geven vervolgens aan welk type waardes er in deze kolommen komen: 2x floats opgeschreven in 64 bits en 1x tijd opgeschreven in 64 bits."
   ]
  },
  {
   "cell_type": "code",
   "execution_count": 7,
   "metadata": {},
   "outputs": [
    {
     "name": "stdout",
     "output_type": "stream",
     "text": [
      "<bound method File.list_nodes of File(filename=tutorial.h5, title='', mode='w', root_uep='/', filters=Filters(complevel=0, shuffle=False, bitshuffle=False, fletcher32=False, least_significant_digit=None))\n",
      "/ (RootGroup) ''\n",
      "/Group (Group) 'Description'\n",
      "/Group/Table (Table(0,)) ''\n",
      "  description := {\n",
      "  \"timestamp\": Time64Col(shape=(), dflt=0.0, pos=0),\n",
      "  \"value_a\": Float64Col(shape=(), dflt=0.0, pos=1),\n",
      "  \"value_b\": Float64Col(shape=(), dflt=0.0, pos=2)}\n",
      "  byteorder := 'little'\n",
      "  chunkshape := (2730,)\n",
      ">\n"
     ]
    }
   ],
   "source": [
    "table = h5file.create_table(group, 'Table', Description)\n",
    "\n",
    "print(h5file.list_nodes)"
   ]
  },
  {
   "cell_type": "markdown",
   "metadata": {},
   "source": [
    "## **Stap 4**: Sla de waardes op in het tabel\n",
    "\n",
    "We slaan nu wat willekeurige waardes op in het tabel om te laten zien hoe dat moet."
   ]
  },
  {
   "cell_type": "code",
   "execution_count": 8,
   "metadata": {},
   "outputs": [],
   "source": [
    "import time\n",
    "import random"
   ]
  },
  {
   "cell_type": "code",
   "execution_count": 9,
   "metadata": {},
   "outputs": [],
   "source": [
    "for i in range(10):\n",
    "    row = table.row\n",
    "\n",
    "    row['value_a'] = random.random()\n",
    "    row['value_b'] = random.random() * 2 + 2\n",
    "    row['timestamp'] = time.time()\n",
    "\n",
    "    row.append()\n",
    "\n",
    "    time.sleep(0.1)"
   ]
  },
  {
   "cell_type": "markdown",
   "metadata": {},
   "source": [
    "We maken dus per 'meting' een nieuwe rij aan. Hierin zetten we de waardes die we meten in de juiste kolommen, slaan de timestamp op en gaan door naar de volgende meting.\n",
    "\n",
    "*Note: de <code>time.sleep</code> is hier alleen om een 'echte' meetserie te simuleren en is niet nodig voor HDF5.*"
   ]
  },
  {
   "cell_type": "code",
   "execution_count": 10,
   "metadata": {},
   "outputs": [],
   "source": [
    "table.flush()\n",
    "table.attrs['FIELD_0_UNIT'] = 'A'\n",
    "table.attrs['FIELD_1_UNIT'] = 'B'"
   ]
  },
  {
   "cell_type": "markdown",
   "metadata": {},
   "source": [
    "Met <code>table.flush()</code> voegen we het gemaakte tabel daadwerkelijk toe aan het bestand en met de twee lines eronder geven we metadata mee aan ons tabel. In dit geval de eenheden van de kolommen ('A' en 'B'). Nu kunnen we onze file afsluiten met:"
   ]
  },
  {
   "cell_type": "code",
   "execution_count": 11,
   "metadata": {},
   "outputs": [
    {
     "name": "stderr",
     "output_type": "stream",
     "text": [
      "Closing remaining open files:tutorial.h5...done\n"
     ]
    }
   ],
   "source": [
    "pt.file._open_files.close_all()"
   ]
  },
  {
   "cell_type": "markdown",
   "metadata": {},
   "source": [
    "## **Stap 5**: Het tabel later aflezen"
   ]
  },
  {
   "cell_type": "markdown",
   "metadata": {},
   "source": [
    "Aangezien we niet zomaar het HDF5 bestand kunnen aflezen (zoals bij een tekstbestand), moeten we het weer via Python openen. Als we het bestand in 'readmodus' openen (met 'r') kunnen we op de volgende manier de data er weer uit halen (en plotten)."
   ]
  },
  {
   "cell_type": "code",
   "execution_count": 12,
   "metadata": {},
   "outputs": [
    {
     "name": "stdout",
     "output_type": "stream",
     "text": [
      "<bound method File.list_nodes of File(filename=tutorial.h5, title='', mode='r', root_uep='/', filters=Filters(complevel=0, shuffle=False, bitshuffle=False, fletcher32=False, least_significant_digit=None))\n",
      "/ (RootGroup) ''\n",
      "/Group (Group) 'Description'\n",
      "/Group/Table (Table(10,)) ''\n",
      "  description := {\n",
      "  \"timestamp\": Time64Col(shape=(), dflt=0.0, pos=0),\n",
      "  \"value_a\": Float64Col(shape=(), dflt=0.0, pos=1),\n",
      "  \"value_b\": Float64Col(shape=(), dflt=0.0, pos=2)}\n",
      "  byteorder := 'little'\n",
      "  chunkshape := (2730,)\n",
      ">\n"
     ]
    }
   ],
   "source": [
    "read_file = pt.open_file('tutorial.h5', 'r')\n",
    "\n",
    "print(read_file.list_nodes)"
   ]
  },
  {
   "cell_type": "code",
   "execution_count": 13,
   "metadata": {},
   "outputs": [],
   "source": [
    "read_table = read_file.get_node('/Group/Table')\n",
    "values_a = read_table.col('value_a')\n",
    "values_b = read_table.col('value_b')\n",
    "timestamps = read_table.col('timestamp')"
   ]
  },
  {
   "cell_type": "code",
   "execution_count": 14,
   "metadata": {},
   "outputs": [],
   "source": [
    "import matplotlib.pyplot as plt"
   ]
  },
  {
   "cell_type": "code",
   "execution_count": 15,
   "metadata": {},
   "outputs": [
    {
     "data": {
      "image/png": "[encoded data removed]",
      "text/plain": [
       "<Figure size 640x480 with 1 Axes>"
      ]
     },
     "metadata": {},
     "output_type": "display_data"
    }
   ],
   "source": [
    "plt.scatter(values_a, values_b)\n",
    "plt.xlabel(f\"a ({read_table.attrs['FIELD_0_UNIT']})\")\n",
    "plt.ylabel(f\"b ({read_table.attrs['FIELD_1_UNIT']})\")\n",
    "plt.show()"
   ]
  },
  {
   "cell_type": "markdown",
   "metadata": {},
   "source": [
    "Dit is de data die we eerder hadden opgeslagen. Let wel op dat tijdstippen op een rare manier worden opgeslagen. Deze moet je nog op een manier converteren naar leesbare tijd."
   ]
  },
  {
   "cell_type": "code",
   "execution_count": 16,
   "metadata": {},
   "outputs": [
    {
     "data": {
      "image/png": "[encoded data removed]",
      "text/plain": [
       "<Figure size 640x480 with 1 Axes>"
      ]
     },
     "metadata": {},
     "output_type": "display_data"
    }
   ],
   "source": [
    "plt.scatter(timestamps, values_a)\n",
    "plt.ylabel(f\"a ({read_table.attrs['FIELD_0_UNIT']})\")\n",
    "plt.show()"
   ]
  }
 ],
 "metadata": {
  "kernelspec": {
   "display_name": "ecpc_pythondaq",
   "language": "python",
   "name": "python3"
  },
  "language_info": {
   "codemirror_mode": {
    "name": "ipython",
    "version": 3
   },
   "file_extension": ".py",
   "mimetype": "text/x-python",
   "name": "python",
   "nbconvert_exporter": "python",
   "pygments_lexer": "ipython3",
   "version": "3.11.5"
  }
 },
 "nbformat": 4,
 "nbformat_minor": 2
}
